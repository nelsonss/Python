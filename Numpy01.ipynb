{
  "nbformat": 4,
  "nbformat_minor": 0,
  "metadata": {
    "colab": {
      "provenance": [],
      "authorship_tag": "ABX9TyNyfEdWYkePi7ByNXzdbDR+",
      "include_colab_link": true
    },
    "kernelspec": {
      "name": "python3",
      "display_name": "Python 3"
    },
    "language_info": {
      "name": "python"
    }
  },
  "cells": [
    {
      "cell_type": "markdown",
      "metadata": {
        "id": "view-in-github",
        "colab_type": "text"
      },
      "source": [
        "<a href=\"https://colab.research.google.com/github/nelsonss/Python/blob/main/Numpy01.ipynb\" target=\"_parent\"><img src=\"https://colab.research.google.com/assets/colab-badge.svg\" alt=\"Open In Colab\"/></a>"
      ]
    },
    {
      "cell_type": "markdown",
      "source": [
        "# NumPy Data Types\n",
        "The NumPy library supports all the default Python data types in addition to some of its intrinsic data types. This means that the default Python data types, e.g., strings, integers, floats, Booleans, and complex data types, can be stored in NumPy arrays.\n",
        "\n",
        "You can check the data type in a NumPy array using the dtypeprperty. You will see the different ways of creating NumPy arrays in detail in the next section.\n",
        "\n",
        "Here, we will show you the array() function and then print the type of the NumPy array using the dtype property. Here is an example:"
      ],
      "metadata": {
        "id": "Md_qXUDHoc8w"
      }
    },
    {
      "cell_type": "code",
      "execution_count": 2,
      "metadata": {
        "colab": {
          "base_uri": "https://localhost:8080/"
        },
        "id": "yzzi3r3sgj8B",
        "outputId": "e2996494-98ad-4f1b-f093-42f1576e61d0"
      },
      "outputs": [
        {
          "output_type": "stream",
          "name": "stdout",
          "text": [
            "[10 12 14 16 20 25]\n",
            "int64\n",
            "8\n"
          ]
        }
      ],
      "source": [
        "import numpy as np\n",
        "\n",
        "my_array = np.array([ 10 , 12 , 14 , 16 , 20 , 25 ])\n",
        "print (my_array)\n",
        "print (my_array.dtype)\n",
        "print (my_array.dtype.itemsize)"
      ]
    },
    {
      "cell_type": "markdown",
      "source": [
        "The output below shows that NumPy stores text in the form of Unicode string data type denoted by U. Here, the digit 6 represents the item with the most number of characters."
      ],
      "metadata": {
        "id": "J7kw7y3LoxkM"
      }
    },
    {
      "cell_type": "code",
      "source": [
        "my_array = np.array([\"Red\", \"Green\", \"Orange\"])\n",
        "print (my_array)\n",
        "print (my_array.dtype)\n",
        "print (my_array.dtype.itemsize)"
      ],
      "metadata": {
        "colab": {
          "base_uri": "https://localhost:8080/"
        },
        "id": "MtxZqZXHpD6f",
        "outputId": "e497c323-d6e9-41aa-8aed-77fce91102ec"
      },
      "execution_count": 3,
      "outputs": [
        {
          "output_type": "stream",
          "name": "stdout",
          "text": [
            "['Red' 'Green' 'Orange']\n",
            "<U6\n",
            "24\n"
          ]
        }
      ]
    }
  ]
}